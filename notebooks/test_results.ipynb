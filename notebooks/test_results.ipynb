{
  "nbformat": 4,
  "nbformat_minor": 0,
  "metadata": {
    "colab": {
      "name": "Masterarbeit Analyzer Graphs",
      "provenance": []
    },
    "kernelspec": {
      "name": "python3",
      "display_name": "Python 3"
    }
  },
  "cells": [
    {
      "cell_type": "code",
      "metadata": {
        "id": "RiRYT4xrm2d6",
        "colab_type": "code",
        "colab": {
          "base_uri": "https://localhost:8080/",
          "height": 136
        },
        "outputId": "939d1fb5-364e-4246-d50c-5c33882808b4"
      },
      "source": [
        "import pandas as pd\n",
        "df = pd.read_csv('analyzer-results.csv')\n",
        "df.count()"
      ],
      "execution_count": 257,
      "outputs": [
        {
          "output_type": "execute_result",
          "data": {
            "text/plain": [
              "originalDomain    14669\n",
              "testIdentifier    14669\n",
              "passed            14669\n",
              "passType          14669\n",
              "severity          14669\n",
              "description        3339\n",
              "dtype: int64"
            ]
          },
          "metadata": {
            "tags": []
          },
          "execution_count": 257
        }
      ]
    },
    {
      "cell_type": "code",
      "metadata": {
        "id": "lNTdNIAbP8rJ",
        "colab_type": "code",
        "colab": {}
      },
      "source": [
        "num_domains = len(df.groupby(['originalDomain']).count())"
      ],
      "execution_count": 0,
      "outputs": []
    },
    {
      "cell_type": "code",
      "metadata": {
        "id": "ITwQl8pX4QkG",
        "colab_type": "code",
        "colab": {
          "base_uri": "https://localhost:8080/",
          "height": 880
        },
        "outputId": "bf5fcdab-c8bd-4497-da94-5fd65c347b78"
      },
      "source": [
        "#\n",
        "# Testresult Overview\n",
        "#\n",
        "type_count = df.groupby(['testIdentifier', 'passType']).size().rename('count').reset_index()\n",
        "import altair as alt\n",
        "alt.Chart(type_count).mark_bar().encode(\n",
        "    x='count:Q',\n",
        "    y='passType:N',\n",
        "    color='passType:N',\n",
        "    #column='testIdentifier:N'\n",
        ").properties(\n",
        "    width=200,\n",
        "    height=60\n",
        ").facet(\n",
        "    facet='testIdentifier:N',\n",
        "    columns=2\n",
        ")"
      ],
      "execution_count": 259,
      "outputs": [
        {
          "output_type": "execute_result",
          "data": {
            "text/plain": [
              "alt.FacetChart(...)"
            ],
            "text/html": [
              "<!DOCTYPE html>\n",
              "<html>\n",
              "<head>\n",
              "  <style>\n",
              "    .vega-actions a {\n",
              "        margin-right: 12px;\n",
              "        color: #757575;\n",
              "        font-weight: normal;\n",
              "        font-size: 13px;\n",
              "    }\n",
              "    .error {\n",
              "        color: red;\n",
              "    }\n",
              "  </style>\n",
              "  <script type=\"text/javascript\" src=\"https://cdn.jsdelivr.net/npm//vega@5\"></script>\n",
              "  <script type=\"text/javascript\" src=\"https://cdn.jsdelivr.net/npm//vega-lite@3.4.0\"></script>\n",
              "  <script type=\"text/javascript\" src=\"https://cdn.jsdelivr.net/npm//vega-embed@4\"></script>\n",
              "</head>\n",
              "<body>\n",
              "  <div id=\"altair-viz\"></div>\n",
              "  <script>\n",
              "    (function(vegaEmbed) {\n",
              "      var spec = {\"config\": {\"view\": {\"width\": 400, \"height\": 300}, \"mark\": {\"tooltip\": null}}, \"data\": {\"name\": \"data-32f36ea9f9133d6c9efc912c5bf7ec09\"}, \"facet\": {\"type\": \"nominal\", \"field\": \"testIdentifier\"}, \"spec\": {\"mark\": \"bar\", \"encoding\": {\"color\": {\"type\": \"nominal\", \"field\": \"passType\"}, \"x\": {\"type\": \"quantitative\", \"field\": \"count\"}, \"y\": {\"type\": \"nominal\", \"field\": \"passType\"}}, \"height\": 60, \"width\": 200}, \"columns\": 2, \"$schema\": \"https://vega.github.io/schema/vega-lite/v3.4.0.json\", \"datasets\": {\"data-32f36ea9f9133d6c9efc912c5bf7ec09\": [{\"testIdentifier\": \"ip-not-anonymized-googleanalytics\", \"passType\": \"failed\", \"count\": 87}, {\"testIdentifier\": \"ip-not-anonymized-googleanalytics\", \"passType\": \"not_applicable\", \"count\": 636}, {\"testIdentifier\": \"ip-not-anonymized-googleanalytics\", \"passType\": \"passed\", \"count\": 195}, {\"testIdentifier\": \"privacy-missing-complaint\", \"passType\": \"failed\", \"count\": 128}, {\"testIdentifier\": \"privacy-missing-complaint\", \"passType\": \"passed\", \"count\": 522}, {\"testIdentifier\": \"privacy-missing-complaint\", \"passType\": \"precondition_failed\", \"count\": 266}, {\"testIdentifier\": \"privacy-missing-information-deletion-request\", \"passType\": \"failed\", \"count\": 61}, {\"testIdentifier\": \"privacy-missing-information-deletion-request\", \"passType\": \"passed\", \"count\": 589}, {\"testIdentifier\": \"privacy-missing-information-deletion-request\", \"passType\": \"precondition_failed\", \"count\": 266}, {\"testIdentifier\": \"privacy-missing-information-request\", \"passType\": \"failed\", \"count\": 76}, {\"testIdentifier\": \"privacy-missing-information-request\", \"passType\": \"passed\", \"count\": 574}, {\"testIdentifier\": \"privacy-missing-information-request\", \"passType\": \"precondition_failed\", \"count\": 266}, {\"testIdentifier\": \"privacy-missing-non-eu-transmission\", \"passType\": \"passed\", \"count\": 424}, {\"testIdentifier\": \"privacy-missing-non-eu-transmission\", \"passType\": \"precondition_failed\", \"count\": 266}, {\"testIdentifier\": \"privacy-missing-non-eu-transmission\", \"passType\": \"uncertain\", \"count\": 226}, {\"testIdentifier\": \"privacy-missing-object\", \"passType\": \"failed\", \"count\": 109}, {\"testIdentifier\": \"privacy-missing-object\", \"passType\": \"passed\", \"count\": 541}, {\"testIdentifier\": \"privacy-missing-object\", \"passType\": \"precondition_failed\", \"count\": 266}, {\"testIdentifier\": \"privacy-missing-officer-contact-details\", \"passType\": \"failed\", \"count\": 26}, {\"testIdentifier\": \"privacy-missing-officer-contact-details\", \"passType\": \"passed\", \"count\": 157}, {\"testIdentifier\": \"privacy-missing-officer-contact-details\", \"passType\": \"precondition_failed\", \"count\": 266}, {\"testIdentifier\": \"privacy-missing-officer-contact-details\", \"passType\": \"uncertain\", \"count\": 467}, {\"testIdentifier\": \"privacy-missing-portability\", \"passType\": \"failed\", \"count\": 192}, {\"testIdentifier\": \"privacy-missing-portability\", \"passType\": \"passed\", \"count\": 458}, {\"testIdentifier\": \"privacy-missing-portability\", \"passType\": \"precondition_failed\", \"count\": 266}, {\"testIdentifier\": \"privacy-missing-rectification\", \"passType\": \"failed\", \"count\": 80}, {\"testIdentifier\": \"privacy-missing-rectification\", \"passType\": \"passed\", \"count\": 570}, {\"testIdentifier\": \"privacy-missing-rectification\", \"passType\": \"precondition_failed\", \"count\": 266}, {\"testIdentifier\": \"privacy-missing-revocation\", \"passType\": \"failed\", \"count\": 81}, {\"testIdentifier\": \"privacy-missing-revocation\", \"passType\": \"passed\", \"count\": 569}, {\"testIdentifier\": \"privacy-missing-revocation\", \"passType\": \"precondition_failed\", \"count\": 266}, {\"testIdentifier\": \"privacy-missing-thirdparty-facebook-pixel\", \"passType\": \"failed\", \"count\": 21}, {\"testIdentifier\": \"privacy-missing-thirdparty-facebook-pixel\", \"passType\": \"not_applicable\", \"count\": 877}, {\"testIdentifier\": \"privacy-missing-thirdparty-facebook-pixel\", \"passType\": \"passed\", \"count\": 14}, {\"testIdentifier\": \"privacy-missing-thirdparty-facebook-pixel\", \"passType\": \"precondition_failed\", \"count\": 6}, {\"testIdentifier\": \"privacy-missing-thirdparty-googleanalytics\", \"passType\": \"failed\", \"count\": 17}, {\"testIdentifier\": \"privacy-missing-thirdparty-googleanalytics\", \"passType\": \"not_applicable\", \"count\": 636}, {\"testIdentifier\": \"privacy-missing-thirdparty-googleanalytics\", \"passType\": \"passed\", \"count\": 214}, {\"testIdentifier\": \"privacy-missing-thirdparty-googleanalytics\", \"passType\": \"precondition_failed\", \"count\": 51}, {\"testIdentifier\": \"privacy-missing-thirdparty-hubspot\", \"passType\": \"failed\", \"count\": 1}, {\"testIdentifier\": \"privacy-missing-thirdparty-hubspot\", \"passType\": \"not_applicable\", \"count\": 915}, {\"testIdentifier\": \"privacy-missing-thirdparty-hubspot\", \"passType\": \"precondition_failed\", \"count\": 2}, {\"testIdentifier\": \"privacy-missing-thirdparty-matomo\", \"passType\": \"failed\", \"count\": 2}, {\"testIdentifier\": \"privacy-missing-thirdparty-matomo\", \"passType\": \"not_applicable\", \"count\": 850}, {\"testIdentifier\": \"privacy-missing-thirdparty-matomo\", \"passType\": \"passed\", \"count\": 57}, {\"testIdentifier\": \"privacy-missing-thirdparty-matomo\", \"passType\": \"precondition_failed\", \"count\": 9}, {\"testIdentifier\": \"privacy-missing-thirdparty-twitter\", \"passType\": \"failed\", \"count\": 4}, {\"testIdentifier\": \"privacy-missing-thirdparty-twitter\", \"passType\": \"not_applicable\", \"count\": 910}, {\"testIdentifier\": \"privacy-missing-thirdparty-twitter\", \"passType\": \"passed\", \"count\": 3}, {\"testIdentifier\": \"privacy-missing-thirdparty-twitter\", \"passType\": \"precondition_failed\", \"count\": 1}, {\"testIdentifier\": \"privacy-statement-missing\", \"passType\": \"failed\", \"count\": 267}, {\"testIdentifier\": \"privacy-statement-missing\", \"passType\": \"passed\", \"count\": 650}]}};\n",
              "      var embedOpt = {\"mode\": \"vega-lite\"};\n",
              "\n",
              "      function showError(el, error){\n",
              "          el.innerHTML = ('<div class=\"error\" style=\"color:red;\">'\n",
              "                          + '<p>JavaScript Error: ' + error.message + '</p>'\n",
              "                          + \"<p>This usually means there's a typo in your chart specification. \"\n",
              "                          + \"See the javascript console for the full traceback.</p>\"\n",
              "                          + '</div>');\n",
              "          throw error;\n",
              "      }\n",
              "      const el = document.getElementById('altair-viz');\n",
              "      vegaEmbed(\"#altair-viz\", spec, embedOpt)\n",
              "        .catch(error => showError(el, error));\n",
              "    })(vegaEmbed);\n",
              "\n",
              "  </script>\n",
              "</body>\n",
              "</html>"
            ]
          },
          "metadata": {
            "tags": []
          },
          "execution_count": 259
        }
      ]
    },
    {
      "cell_type": "code",
      "metadata": {
        "id": "l315j-Y9Ae8f",
        "colab_type": "code",
        "colab": {
          "base_uri": "https://localhost:8080/",
          "height": 359
        },
        "outputId": "48f56a7d-de7c-4e7c-d848-ebc3b1b61c89"
      },
      "source": [
        "# \n",
        "# Top 10 failed\n",
        "#\n",
        "top_failed = df[df.passType == 'failed'].groupby(['testIdentifier']).size().reset_index(name='counts').nlargest(10, ['counts'])\n",
        "top_failed['percentage'] = top_failed['counts']/num_domains*100\n",
        "top_failed\n",
        "# print(top_failed.to_latex(index=False))"
      ],
      "execution_count": 272,
      "outputs": [
        {
          "output_type": "execute_result",
          "data": {
            "text/html": [
              "<div>\n",
              "<style scoped>\n",
              "    .dataframe tbody tr th:only-of-type {\n",
              "        vertical-align: middle;\n",
              "    }\n",
              "\n",
              "    .dataframe tbody tr th {\n",
              "        vertical-align: top;\n",
              "    }\n",
              "\n",
              "    .dataframe thead th {\n",
              "        text-align: right;\n",
              "    }\n",
              "</style>\n",
              "<table border=\"1\" class=\"dataframe\">\n",
              "  <thead>\n",
              "    <tr style=\"text-align: right;\">\n",
              "      <th></th>\n",
              "      <th>testIdentifier</th>\n",
              "      <th>counts</th>\n",
              "      <th>percentage</th>\n",
              "    </tr>\n",
              "  </thead>\n",
              "  <tbody>\n",
              "    <tr>\n",
              "      <th>14</th>\n",
              "      <td>privacy-statement-missing</td>\n",
              "      <td>267</td>\n",
              "      <td>29.084967</td>\n",
              "    </tr>\n",
              "    <tr>\n",
              "      <th>6</th>\n",
              "      <td>privacy-missing-portability</td>\n",
              "      <td>192</td>\n",
              "      <td>20.915033</td>\n",
              "    </tr>\n",
              "    <tr>\n",
              "      <th>1</th>\n",
              "      <td>privacy-missing-complaint</td>\n",
              "      <td>128</td>\n",
              "      <td>13.943355</td>\n",
              "    </tr>\n",
              "    <tr>\n",
              "      <th>4</th>\n",
              "      <td>privacy-missing-object</td>\n",
              "      <td>109</td>\n",
              "      <td>11.873638</td>\n",
              "    </tr>\n",
              "    <tr>\n",
              "      <th>0</th>\n",
              "      <td>ip-not-anonymized-googleanalytics</td>\n",
              "      <td>87</td>\n",
              "      <td>9.477124</td>\n",
              "    </tr>\n",
              "    <tr>\n",
              "      <th>8</th>\n",
              "      <td>privacy-missing-revocation</td>\n",
              "      <td>81</td>\n",
              "      <td>8.823529</td>\n",
              "    </tr>\n",
              "    <tr>\n",
              "      <th>7</th>\n",
              "      <td>privacy-missing-rectification</td>\n",
              "      <td>80</td>\n",
              "      <td>8.714597</td>\n",
              "    </tr>\n",
              "    <tr>\n",
              "      <th>3</th>\n",
              "      <td>privacy-missing-information-request</td>\n",
              "      <td>76</td>\n",
              "      <td>8.278867</td>\n",
              "    </tr>\n",
              "    <tr>\n",
              "      <th>2</th>\n",
              "      <td>privacy-missing-information-deletion-request</td>\n",
              "      <td>61</td>\n",
              "      <td>6.644880</td>\n",
              "    </tr>\n",
              "    <tr>\n",
              "      <th>5</th>\n",
              "      <td>privacy-missing-officer-contact-details</td>\n",
              "      <td>26</td>\n",
              "      <td>2.832244</td>\n",
              "    </tr>\n",
              "  </tbody>\n",
              "</table>\n",
              "</div>"
            ],
            "text/plain": [
              "                                  testIdentifier  counts  percentage\n",
              "14                     privacy-statement-missing     267   29.084967\n",
              "6                    privacy-missing-portability     192   20.915033\n",
              "1                      privacy-missing-complaint     128   13.943355\n",
              "4                         privacy-missing-object     109   11.873638\n",
              "0              ip-not-anonymized-googleanalytics      87    9.477124\n",
              "8                     privacy-missing-revocation      81    8.823529\n",
              "7                  privacy-missing-rectification      80    8.714597\n",
              "3            privacy-missing-information-request      76    8.278867\n",
              "2   privacy-missing-information-deletion-request      61    6.644880\n",
              "5        privacy-missing-officer-contact-details      26    2.832244"
            ]
          },
          "metadata": {
            "tags": []
          },
          "execution_count": 272
        }
      ]
    },
    {
      "cell_type": "code",
      "metadata": {
        "id": "4Vlp5bIfPJtU",
        "colab_type": "code",
        "colab": {
          "base_uri": "https://localhost:8080/",
          "height": 306
        },
        "outputId": "0936c6f8-03f6-4b38-8e4b-1f000c3f5b0e"
      },
      "source": [
        "#\n",
        "# Top 10 passed\n",
        "# \n",
        "top_passed = df[df.passType == 'passed'].groupby(['testIdentifier']).size().reset_index(name='counts').nlargest(10, ['counts'])\n",
        "top_passed['percentage'] = top_passed['counts']/num_domains*100\n",
        "top_passed\n",
        "print(top_passed.to_latex(index=False))"
      ],
      "execution_count": 283,
      "outputs": [
        {
          "output_type": "stream",
          "text": [
            "\\begin{tabular}{lrr}\n",
            "\\toprule\n",
            "                               testIdentifier &  counts &  percentage \\\\\n",
            "\\midrule\n",
            "                    privacy-statement-missing &     650 &   70.806100 \\\\\n",
            " privacy-missing-information-deletion-request &     589 &   64.161220 \\\\\n",
            "          privacy-missing-information-request &     574 &   62.527233 \\\\\n",
            "                privacy-missing-rectification &     570 &   62.091503 \\\\\n",
            "                   privacy-missing-revocation &     569 &   61.982571 \\\\\n",
            "                       privacy-missing-object &     541 &   58.932462 \\\\\n",
            "                    privacy-missing-complaint &     522 &   56.862745 \\\\\n",
            "                  privacy-missing-portability &     458 &   49.891068 \\\\\n",
            "          privacy-missing-non-eu-transmission &     424 &   46.187364 \\\\\n",
            "   privacy-missing-thirdparty-googleanalytics &     214 &   23.311547 \\\\\n",
            "\\bottomrule\n",
            "\\end{tabular}\n",
            "\n"
          ],
          "name": "stdout"
        }
      ]
    },
    {
      "cell_type": "code",
      "metadata": {
        "id": "-fkuFkx2rTrQ",
        "colab_type": "code",
        "colab": {}
      },
      "source": [
        "# geht nur bei < 5k rows\n",
        "import altair as alt\n",
        "alt.Chart(df).mark_bar().encode(\n",
        "    x='count(passType)',\n",
        "    y='testIdentifier:N',\n",
        "    color='passType:N'\n",
        ").properties(\n",
        "    width=800\n",
        ")"
      ],
      "execution_count": 0,
      "outputs": []
    }
  ]
}